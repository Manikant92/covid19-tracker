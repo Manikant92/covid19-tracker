{
 "cells": [
  {
   "cell_type": "code",
   "execution_count": 1,
   "metadata": {},
   "outputs": [],
   "source": [
    "import numpy as np\n",
    "import pandas as pd\n",
    "import requests\n",
    "import lxml.html as lh\n",
    "\n",
    "from tabulate import tabulate\n",
    "import json, time, datetime\n",
    "import telegram"
   ]
  },
  {
   "cell_type": "code",
   "execution_count": 2,
   "metadata": {},
   "outputs": [],
   "source": [
    "# !pip install requests lxml beautifulsoup4 python-telegram-bot tabulate --upgrade"
   ]
  },
  {
   "cell_type": "markdown",
   "metadata": {},
   "source": [
    "# Global data"
   ]
  },
  {
   "cell_type": "code",
   "execution_count": 83,
   "metadata": {},
   "outputs": [
    {
     "name": "stdout",
     "output_type": "stream",
     "text": [
      "100\n"
     ]
    },
    {
     "data": {
      "text/html": [
       "<div>\n",
       "<style scoped>\n",
       "    .dataframe tbody tr th:only-of-type {\n",
       "        vertical-align: middle;\n",
       "    }\n",
       "\n",
       "    .dataframe tbody tr th {\n",
       "        vertical-align: top;\n",
       "    }\n",
       "\n",
       "    .dataframe thead th {\n",
       "        text-align: right;\n",
       "    }\n",
       "</style>\n",
       "<table border=\"1\" class=\"dataframe\">\n",
       "  <thead>\n",
       "    <tr style=\"text-align: right;\">\n",
       "      <th></th>\n",
       "      <th>Country</th>\n",
       "      <th>Confirmed</th>\n",
       "      <th>Recovered</th>\n",
       "      <th>Deaths</th>\n",
       "      <th>Active</th>\n",
       "    </tr>\n",
       "  </thead>\n",
       "  <tbody>\n",
       "    <tr>\n",
       "      <th>0</th>\n",
       "      <td>China</td>\n",
       "      <td>81171.0</td>\n",
       "      <td>73159.0</td>\n",
       "      <td>3277.0</td>\n",
       "      <td>4735.0</td>\n",
       "    </tr>\n",
       "    <tr>\n",
       "      <th>1</th>\n",
       "      <td>Italy</td>\n",
       "      <td>63927.0</td>\n",
       "      <td>7432.0</td>\n",
       "      <td>6077.0</td>\n",
       "      <td>50418.0</td>\n",
       "    </tr>\n",
       "    <tr>\n",
       "      <th>2</th>\n",
       "      <td>USA</td>\n",
       "      <td>48778.0</td>\n",
       "      <td>295.0</td>\n",
       "      <td>588.0</td>\n",
       "      <td>47895.0</td>\n",
       "    </tr>\n",
       "    <tr>\n",
       "      <th>3</th>\n",
       "      <td>Spain</td>\n",
       "      <td>39676.0</td>\n",
       "      <td>3794.0</td>\n",
       "      <td>2800.0</td>\n",
       "      <td>33082.0</td>\n",
       "    </tr>\n",
       "    <tr>\n",
       "      <th>4</th>\n",
       "      <td>Germany</td>\n",
       "      <td>31370.0</td>\n",
       "      <td>749.0</td>\n",
       "      <td>133.0</td>\n",
       "      <td>30488.0</td>\n",
       "    </tr>\n",
       "    <tr>\n",
       "      <th>...</th>\n",
       "      <td>...</td>\n",
       "      <td>...</td>\n",
       "      <td>...</td>\n",
       "      <td>...</td>\n",
       "      <td>...</td>\n",
       "    </tr>\n",
       "    <tr>\n",
       "      <th>95</th>\n",
       "      <td>Cabo Verde</td>\n",
       "      <td>3.0</td>\n",
       "      <td>2.0</td>\n",
       "      <td>1.0</td>\n",
       "      <td>2.0</td>\n",
       "    </tr>\n",
       "    <tr>\n",
       "      <th>96</th>\n",
       "      <td>Sudan</td>\n",
       "      <td>3.0</td>\n",
       "      <td>2.0</td>\n",
       "      <td>1.0</td>\n",
       "      <td>2.0</td>\n",
       "    </tr>\n",
       "    <tr>\n",
       "      <th>97</th>\n",
       "      <td>Zimbabwe</td>\n",
       "      <td>3.0</td>\n",
       "      <td>2.0</td>\n",
       "      <td>1.0</td>\n",
       "      <td>2.0</td>\n",
       "    </tr>\n",
       "    <tr>\n",
       "      <th>98</th>\n",
       "      <td>Gambia</td>\n",
       "      <td>2.0</td>\n",
       "      <td>2.0</td>\n",
       "      <td>1.0</td>\n",
       "      <td>1.0</td>\n",
       "    </tr>\n",
       "    <tr>\n",
       "      <th>99</th>\n",
       "      <td>NaN</td>\n",
       "      <td>394230.0</td>\n",
       "      <td>103565.0</td>\n",
       "      <td>17367.0</td>\n",
       "      <td>273399.0</td>\n",
       "    </tr>\n",
       "  </tbody>\n",
       "</table>\n",
       "<p>100 rows × 5 columns</p>\n",
       "</div>"
      ],
      "text/plain": [
       "       Country  Confirmed  Recovered   Deaths    Active\n",
       "0        China    81171.0    73159.0   3277.0    4735.0\n",
       "1        Italy    63927.0     7432.0   6077.0   50418.0\n",
       "2          USA    48778.0      295.0    588.0   47895.0\n",
       "3        Spain    39676.0     3794.0   2800.0   33082.0\n",
       "4      Germany    31370.0      749.0    133.0   30488.0\n",
       "..         ...        ...        ...      ...       ...\n",
       "95  Cabo Verde        3.0        2.0      1.0       2.0\n",
       "96       Sudan        3.0        2.0      1.0       2.0\n",
       "97    Zimbabwe        3.0        2.0      1.0       2.0\n",
       "98      Gambia        2.0        2.0      1.0       1.0\n",
       "99         NaN   394230.0   103565.0  17367.0  273399.0\n",
       "\n",
       "[100 rows x 5 columns]"
      ]
     },
     "execution_count": 83,
     "metadata": {},
     "output_type": "execute_result"
    }
   ],
   "source": [
    "def get_data():\n",
    "    url = 'https://www.worldometers.info/coronavirus'\n",
    "    page = requests.get(url)\n",
    "    doc = lh.fromstring(page.content)\n",
    "    tr_elements = doc.xpath('//*[@id=\"main_table_countries_today\"]/tbody[1]')\n",
    "    rows=[]\n",
    "    #For each row, store each first element (header) and an empty list\n",
    "    for t in tr_elements[0]:\n",
    "        row = [x.text_content() for x in t.findall('td')[:-1]]\n",
    "        rows.append(row)\n",
    "    columns = ['Country', 'Confirmed','New', 'Deaths', 'New Deaths', 'Recovered', 'Active', 'x', 'x']\n",
    "    df = pd.DataFrame(rows, columns=columns).replace('', None).iloc[:, :-2]\n",
    "    df = df[['Country', 'Confirmed', 'Recovered', 'Deaths', 'Active']].fillna(0)\n",
    "    for col in df.columns[1:]:\n",
    "        df[col] = df[col].astype(str).str.replace(' ','').replace(',','', regex=True).replace('+','').apply(pd.to_numeric)\n",
    "    df.dropna(inplace=True)\n",
    "    df['Deaths'] = df['Deaths'].astype(int) \n",
    "#     df.loc[\"Total\"] = df.sum()\n",
    "    return df\n",
    "\n",
    "df = get_data()\n",
    "print(len(df))\n",
    "df.head(300)"
   ]
  },
  {
   "cell_type": "markdown",
   "metadata": {},
   "source": [
    "# India data"
   ]
  },
  {
   "cell_type": "code",
   "execution_count": 3,
   "metadata": {},
   "outputs": [
    {
     "name": "stdout",
     "output_type": "stream",
     "text": [
      "38\n"
     ]
    },
    {
     "data": {
      "text/html": [
       "<div>\n",
       "<style scoped>\n",
       "    .dataframe tbody tr th:only-of-type {\n",
       "        vertical-align: middle;\n",
       "    }\n",
       "\n",
       "    .dataframe tbody tr th {\n",
       "        vertical-align: top;\n",
       "    }\n",
       "\n",
       "    .dataframe thead th {\n",
       "        text-align: right;\n",
       "    }\n",
       "</style>\n",
       "<table border=\"1\" class=\"dataframe\">\n",
       "  <thead>\n",
       "    <tr style=\"text-align: right;\">\n",
       "      <th></th>\n",
       "      <th>State</th>\n",
       "      <th></th>\n",
       "      <th>Confirmed</th>\n",
       "      <th>Recovered</th>\n",
       "      <th>Deaths</th>\n",
       "      <th>Active</th>\n",
       "    </tr>\n",
       "  </thead>\n",
       "  <tbody>\n",
       "    <tr>\n",
       "      <th>0</th>\n",
       "      <td>Total</td>\n",
       "      <td></td>\n",
       "      <td>544</td>\n",
       "      <td>37</td>\n",
       "      <td>9</td>\n",
       "      <td>498</td>\n",
       "    </tr>\n",
       "    <tr>\n",
       "      <th>2</th>\n",
       "      <td>Maharashtra</td>\n",
       "      <td></td>\n",
       "      <td>107</td>\n",
       "      <td>0</td>\n",
       "      <td>2</td>\n",
       "      <td>105</td>\n",
       "    </tr>\n",
       "    <tr>\n",
       "      <th>3</th>\n",
       "      <td>Kerala</td>\n",
       "      <td></td>\n",
       "      <td>97</td>\n",
       "      <td>4</td>\n",
       "      <td>0</td>\n",
       "      <td>93</td>\n",
       "    </tr>\n",
       "    <tr>\n",
       "      <th>4</th>\n",
       "      <td>Karnataka</td>\n",
       "      <td></td>\n",
       "      <td>39</td>\n",
       "      <td>2</td>\n",
       "      <td>1</td>\n",
       "      <td>36</td>\n",
       "    </tr>\n",
       "    <tr>\n",
       "      <th>5</th>\n",
       "      <td>Uttar Pradesh</td>\n",
       "      <td></td>\n",
       "      <td>34</td>\n",
       "      <td>9</td>\n",
       "      <td>0</td>\n",
       "      <td>25</td>\n",
       "    </tr>\n",
       "  </tbody>\n",
       "</table>\n",
       "</div>"
      ],
      "text/plain": [
       "           State    Confirmed  Recovered  Deaths  Active\n",
       "0          Total          544         37       9     498\n",
       "2    Maharashtra          107          0       2     105\n",
       "3         Kerala           97          4       0      93\n",
       "4      Karnataka           39          2       1      36\n",
       "5  Uttar Pradesh           34          9       0      25"
      ]
     },
     "execution_count": 3,
     "metadata": {},
     "output_type": "execute_result"
    }
   ],
   "source": [
    "def get_data():\n",
    "    url = 'https://docs.google.com/spreadsheets/d/e/2PACX-1vSc_2y5N0I67wDU38DjDh35IZSIS30rQf7_NYZhtYYGU1jJYT6_kDx4YpF-qw0LSlGsBYP8pqM_a1Pd/pubhtml#'\n",
    "    page = requests.get(url)\n",
    "    doc = lh.fromstring(page.content)\n",
    "    tr_elements = doc.xpath('//*[@id=\"1896310216\"]/div/table/tbody')\n",
    "    rows=[]\n",
    "    #For each row, store each first element (header) and an empty list\n",
    "    for t in tr_elements[0]:\n",
    "        row = [x.text_content() for x in t.findall('td')[:-1]]\n",
    "        rows.append(row)\n",
    "\n",
    "    df = pd.DataFrame(rows[1:], columns=rows[0]).replace('', None).dropna().drop_duplicates()\n",
    "    df[['Confirmed', 'Recovered', 'Deaths', 'Active']] = df[['Confirmed', 'Recovered', 'Deaths', 'Active']].apply(pd.to_numeric)\n",
    "    return df\n",
    "\n",
    "df = get_data()\n",
    "print(len(df))\n",
    "df.head()"
   ]
  },
  {
   "cell_type": "code",
   "execution_count": 9,
   "metadata": {},
   "outputs": [
    {
     "data": {
      "text/plain": [
       "517"
      ]
     },
     "execution_count": 9,
     "metadata": {},
     "output_type": "execute_result"
    }
   ],
   "source": [
    "df[['State', 'Confirmed']].iloc[0,1]"
   ]
  },
  {
   "cell_type": "code",
   "execution_count": 92,
   "metadata": {},
   "outputs": [],
   "source": [
    "# df_new = df.copy()\n",
    "# df_new.Confirmed = list(np.random.randint(50, size=10)) + df.Confirmed.to_list()[10:38]\n",
    "# df_new = df_new.sample(frac=1)\n",
    "# df_new.head()"
   ]
  },
  {
   "cell_type": "code",
   "execution_count": 51,
   "metadata": {},
   "outputs": [],
   "source": [
    "class TelegramMessenger:\n",
    "    \"\"\"\n",
    "    https://forums.fast.ai/t/training-metrics-as-notifications-on-mobile-using-callbacks/17330/4\n",
    "\n",
    "    Utilizes this API Library:\n",
    "       https://github.com/python-telegram-bot/python-telegram-bot\n",
    "    To install:\n",
    "       pip install python-telegram-bot --upgrade\n",
    "\n",
    "    {\"api_key\": \"462203107:<your API key>\",\n",
    "     \"chat_id\": \"<your chat ID>\"}\n",
    "\n",
    "    Here's how you get an API key:\n",
    "       https://core.telegram.org/api/obtaining_api_id\n",
    "    Here's how you get your chat ID:\n",
    "       https://stackoverflow.com/questions/32423837/telegram-bot-how-to-get-a-group-chat-id\n",
    "\n",
    "    \"\"\"\n",
    "\n",
    "    def __init__(self, cred_file_path):\n",
    "        self.__credentials = json.loads(open(cred_file_path).read())\n",
    "        # Initialize bot\n",
    "        self.bot = telegram.Bot(token=self.__credentials['api_key'])\n",
    "\n",
    "    def send_message(self, message='Done'):\n",
    "        self.bot.send_message(parse_mode='HTML', chat_id=self.__credentials['chat_id'], text=message)"
   ]
  },
  {
   "cell_type": "code",
   "execution_count": 94,
   "metadata": {},
   "outputs": [],
   "source": [
    "try:\n",
    "    bot = TelegramMessenger('../india-config.json')\n",
    "except:\n",
    "    bot = TelegramMessenger('india-config.json')"
   ]
  },
  {
   "cell_type": "code",
   "execution_count": 95,
   "metadata": {},
   "outputs": [
    {
     "name": "stdout",
     "output_type": "stream",
     "text": [
      "Empty DataFrame\n",
      "Columns: [State, , Confirmed, Recovered, Deaths, Active, old_confirmed, New]\n",
      "Index: []\n",
      "Case update at: 2020-03-23 23:31\n",
      "No new cases\n"
     ]
    },
    {
     "ename": "KeyboardInterrupt",
     "evalue": "",
     "output_type": "error",
     "traceback": [
      "\u001b[0;31m---------------------------------------------------------------------------\u001b[0m",
      "\u001b[0;31mKeyboardInterrupt\u001b[0m                         Traceback (most recent call last)",
      "\u001b[0;32m<ipython-input-95-e64f404e18e8>\u001b[0m in \u001b[0;36m<module>\u001b[0;34m\u001b[0m\n\u001b[1;32m     24\u001b[0m         \u001b[0mdf\u001b[0m \u001b[0;34m=\u001b[0m \u001b[0mdf_new\u001b[0m\u001b[0;34m\u001b[0m\u001b[0;34m\u001b[0m\u001b[0m\n\u001b[1;32m     25\u001b[0m \u001b[0;31m#     break\u001b[0m\u001b[0;34m\u001b[0m\u001b[0;34m\u001b[0m\u001b[0;34m\u001b[0m\u001b[0m\n\u001b[0;32m---> 26\u001b[0;31m     \u001b[0mtime\u001b[0m\u001b[0;34m.\u001b[0m\u001b[0msleep\u001b[0m\u001b[0;34m(\u001b[0m\u001b[0;36m600\u001b[0m\u001b[0;34m)\u001b[0m\u001b[0;34m\u001b[0m\u001b[0;34m\u001b[0m\u001b[0m\n\u001b[0m",
      "\u001b[0;31mKeyboardInterrupt\u001b[0m: "
     ]
    }
   ],
   "source": [
    "curr_date = datetime.datetime.now().date()\n",
    "\n",
    "while True:\n",
    "    df_new = get_data()\n",
    "    df_update = df_new\n",
    "#     df_update['old_confirmed'] = df.Confirmed\n",
    "    df_update = df_update.merge(df.rename({'Confirmed': 'old_confirmed'}, axis=1))\n",
    "    df_update['New'] = df_update['Confirmed'] - df_update['old_confirmed']\n",
    "    df_update = df_update[df_update['New']>0]\n",
    "    print(df_update)\n",
    "    df_update = df_update[['State', 'New', 'Confirmed', 'Deaths']].set_index('State')\n",
    "    curr_time = datetime.datetime.now().strftime(\"%Y-%m-%d %H:%M\")\n",
    "    curr_time = f'Case update at: {curr_time}'\n",
    "    print(curr_time)\n",
    "    if len(df_update)>0:\n",
    "        message = tabulate(df_update, headers='keys', tablefmt='simple', numalign=\"right\")\n",
    "        print(message)\n",
    "        bot.send_message(curr_time)\n",
    "        bot.send_message(message)\n",
    "    else:\n",
    "        print('No new cases')\n",
    "    date = datetime.datetime.now().date()\n",
    "    if date != curr_date:\n",
    "        df = df_new\n",
    "#     break\n",
    "    time.sleep(600)"
   ]
  },
  {
   "cell_type": "code",
   "execution_count": 393,
   "metadata": {},
   "outputs": [
    {
     "name": "stdout",
     "output_type": "stream",
     "text": [
      "[NbConvertApp] Converting notebook telegram.ipynb to script\n",
      "[NbConvertApp] Writing 3206 bytes to telegram.py\n"
     ]
    }
   ],
   "source": [
    "# !jupyter nbconvert --to script telegram.ipynb"
   ]
  },
  {
   "cell_type": "code",
   "execution_count": 74,
   "metadata": {},
   "outputs": [],
   "source": [
    "# bot = TelegramMessenger('../test-config.json')"
   ]
  },
  {
   "cell_type": "code",
   "execution_count": 75,
   "metadata": {},
   "outputs": [],
   "source": [
    "# bot.send_message('hi')"
   ]
  },
  {
   "cell_type": "code",
   "execution_count": 76,
   "metadata": {},
   "outputs": [],
   "source": [
    "# url = f'https://api.telegram.org/bot11352/getUpdates'\n",
    "# requests.get(url).text"
   ]
  },
  {
   "cell_type": "code",
   "execution_count": null,
   "metadata": {},
   "outputs": [],
   "source": []
  }
 ],
 "metadata": {
  "kernelspec": {
   "display_name": "Python 3",
   "language": "python",
   "name": "python3"
  },
  "language_info": {
   "codemirror_mode": {
    "name": "ipython",
    "version": 3
   },
   "file_extension": ".py",
   "mimetype": "text/x-python",
   "name": "python",
   "nbconvert_exporter": "python",
   "pygments_lexer": "ipython3",
   "version": "3.7.6"
  }
 },
 "nbformat": 4,
 "nbformat_minor": 4
}
